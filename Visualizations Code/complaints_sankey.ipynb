{
 "cells": [
  {
   "cell_type": "code",
   "execution_count": 8,
   "id": "98ff3bb8",
   "metadata": {},
   "outputs": [],
   "source": [
    "# Import required library\n",
    "import pandas as pd"
   ]
  },
  {
   "cell_type": "code",
   "execution_count": 9,
   "id": "b87e63ab",
   "metadata": {},
   "outputs": [
    {
     "data": {
      "text/html": [
       "<div>\n",
       "<style scoped>\n",
       "    .dataframe tbody tr th:only-of-type {\n",
       "        vertical-align: middle;\n",
       "    }\n",
       "\n",
       "    .dataframe tbody tr th {\n",
       "        vertical-align: top;\n",
       "    }\n",
       "\n",
       "    .dataframe thead th {\n",
       "        text-align: right;\n",
       "    }\n",
       "</style>\n",
       "<table border=\"1\" class=\"dataframe\">\n",
       "  <thead>\n",
       "    <tr style=\"text-align: right;\">\n",
       "      <th></th>\n",
       "      <th>Unnamed: 0</th>\n",
       "      <th>open_dt</th>\n",
       "      <th>Year</th>\n",
       "      <th>ontime</th>\n",
       "      <th>case_status</th>\n",
       "      <th>closure_reason</th>\n",
       "      <th>subject</th>\n",
       "      <th>reason</th>\n",
       "      <th>type</th>\n",
       "      <th>department</th>\n",
       "      <th>submittedphoto</th>\n",
       "      <th>pwd_district</th>\n",
       "      <th>city_council_district</th>\n",
       "      <th>neighborhood</th>\n",
       "      <th>neighborhood_services_district</th>\n",
       "      <th>location_street_name</th>\n",
       "      <th>location_zipcode</th>\n",
       "      <th>latitude</th>\n",
       "      <th>longitude</th>\n",
       "      <th>source</th>\n",
       "    </tr>\n",
       "  </thead>\n",
       "  <tbody>\n",
       "    <tr>\n",
       "      <th>0</th>\n",
       "      <td>0</td>\n",
       "      <td>1/1/2021 1:46</td>\n",
       "      <td>2021</td>\n",
       "      <td>ONTIME</td>\n",
       "      <td>Closed</td>\n",
       "      <td>Case Closed. Closed date : 2021-01-02 12:53:10...</td>\n",
       "      <td>Transportation - Traffic Division</td>\n",
       "      <td>Enforcement &amp; Abandoned Vehicles</td>\n",
       "      <td>Parking Enforcement</td>\n",
       "      <td>BTDT</td>\n",
       "      <td>NaN</td>\n",
       "      <td>10B</td>\n",
       "      <td>9</td>\n",
       "      <td>Roxbury</td>\n",
       "      <td>13</td>\n",
       "      <td>INTERSECTION Elmore St &amp; Kensington St</td>\n",
       "      <td>NaN</td>\n",
       "      <td>42.3594</td>\n",
       "      <td>-71.0587</td>\n",
       "      <td>Constituent Call</td>\n",
       "    </tr>\n",
       "    <tr>\n",
       "      <th>1</th>\n",
       "      <td>2</td>\n",
       "      <td>1/1/2021 4:58</td>\n",
       "      <td>2021</td>\n",
       "      <td>ONTIME</td>\n",
       "      <td>Closed</td>\n",
       "      <td>Case Closed. Closed date : 2021-01-02 12:56:14...</td>\n",
       "      <td>Transportation - Traffic Division</td>\n",
       "      <td>Enforcement &amp; Abandoned Vehicles</td>\n",
       "      <td>Parking Enforcement</td>\n",
       "      <td>BTDT</td>\n",
       "      <td>NaN</td>\n",
       "      <td>7</td>\n",
       "      <td>4</td>\n",
       "      <td>Dorchester</td>\n",
       "      <td>9</td>\n",
       "      <td>27 W Tremlett St</td>\n",
       "      <td>2124.0</td>\n",
       "      <td>42.2944</td>\n",
       "      <td>-71.0734</td>\n",
       "      <td>Citizens Connect App</td>\n",
       "    </tr>\n",
       "    <tr>\n",
       "      <th>2</th>\n",
       "      <td>3</td>\n",
       "      <td>1/1/2021 6:11</td>\n",
       "      <td>2021</td>\n",
       "      <td>ONTIME</td>\n",
       "      <td>Closed</td>\n",
       "      <td>Case Closed. Closed date : 2021-01-02 08:11:45...</td>\n",
       "      <td>Transportation - Traffic Division</td>\n",
       "      <td>Enforcement &amp; Abandoned Vehicles</td>\n",
       "      <td>Parking Enforcement</td>\n",
       "      <td>BTDT</td>\n",
       "      <td>https://311.boston.gov/media/boston/report/pho...</td>\n",
       "      <td>1C</td>\n",
       "      <td>2</td>\n",
       "      <td>South End</td>\n",
       "      <td>6</td>\n",
       "      <td>INTERSECTION Chandler St &amp; Cazenove St</td>\n",
       "      <td>NaN</td>\n",
       "      <td>42.3594</td>\n",
       "      <td>-71.0587</td>\n",
       "      <td>Citizens Connect App</td>\n",
       "    </tr>\n",
       "    <tr>\n",
       "      <th>3</th>\n",
       "      <td>4</td>\n",
       "      <td>1/1/2021 7:06</td>\n",
       "      <td>2021</td>\n",
       "      <td>ONTIME</td>\n",
       "      <td>Closed</td>\n",
       "      <td>Case Closed. Closed date : 2021-01-02 12:46:24...</td>\n",
       "      <td>Transportation - Traffic Division</td>\n",
       "      <td>Enforcement &amp; Abandoned Vehicles</td>\n",
       "      <td>Parking Enforcement</td>\n",
       "      <td>BTDT</td>\n",
       "      <td>https://311.boston.gov/media/boston/report/pho...</td>\n",
       "      <td>3</td>\n",
       "      <td>2</td>\n",
       "      <td>Dorchester</td>\n",
       "      <td>5</td>\n",
       "      <td>50 Dorset St</td>\n",
       "      <td>2125.0</td>\n",
       "      <td>42.3239</td>\n",
       "      <td>-71.0592</td>\n",
       "      <td>Citizens Connect App</td>\n",
       "    </tr>\n",
       "    <tr>\n",
       "      <th>4</th>\n",
       "      <td>6</td>\n",
       "      <td>1/1/2021 7:55</td>\n",
       "      <td>2021</td>\n",
       "      <td>ONTIME</td>\n",
       "      <td>Closed</td>\n",
       "      <td>Case Closed. Closed date : 2021-01-02 12:53:56...</td>\n",
       "      <td>Transportation - Traffic Division</td>\n",
       "      <td>Enforcement &amp; Abandoned Vehicles</td>\n",
       "      <td>Parking Enforcement</td>\n",
       "      <td>BTDT</td>\n",
       "      <td>NaN</td>\n",
       "      <td>3</td>\n",
       "      <td>3</td>\n",
       "      <td>Dorchester</td>\n",
       "      <td>7</td>\n",
       "      <td>18 Hinckley St</td>\n",
       "      <td>2125.0</td>\n",
       "      <td>42.3173</td>\n",
       "      <td>-71.0603</td>\n",
       "      <td>Citizens Connect App</td>\n",
       "    </tr>\n",
       "    <tr>\n",
       "      <th>...</th>\n",
       "      <td>...</td>\n",
       "      <td>...</td>\n",
       "      <td>...</td>\n",
       "      <td>...</td>\n",
       "      <td>...</td>\n",
       "      <td>...</td>\n",
       "      <td>...</td>\n",
       "      <td>...</td>\n",
       "      <td>...</td>\n",
       "      <td>...</td>\n",
       "      <td>...</td>\n",
       "      <td>...</td>\n",
       "      <td>...</td>\n",
       "      <td>...</td>\n",
       "      <td>...</td>\n",
       "      <td>...</td>\n",
       "      <td>...</td>\n",
       "      <td>...</td>\n",
       "      <td>...</td>\n",
       "      <td>...</td>\n",
       "    </tr>\n",
       "    <tr>\n",
       "      <th>49521</th>\n",
       "      <td>60947</td>\n",
       "      <td>12/31/2019 19:06</td>\n",
       "      <td>2019</td>\n",
       "      <td>ONTIME</td>\n",
       "      <td>Closed</td>\n",
       "      <td>Case Closed. Closed date : 2019-12-31 20:20:49...</td>\n",
       "      <td>Transportation - Traffic Division</td>\n",
       "      <td>Enforcement &amp; Abandoned Vehicles</td>\n",
       "      <td>Parking Enforcement</td>\n",
       "      <td>BTDT</td>\n",
       "      <td>NaN</td>\n",
       "      <td>1C</td>\n",
       "      <td>2</td>\n",
       "      <td>South End</td>\n",
       "      <td>6</td>\n",
       "      <td>42 Paul Pl</td>\n",
       "      <td>2118.0</td>\n",
       "      <td>42.3467</td>\n",
       "      <td>-71.0678</td>\n",
       "      <td>Citizens Connect App</td>\n",
       "    </tr>\n",
       "    <tr>\n",
       "      <th>49522</th>\n",
       "      <td>60948</td>\n",
       "      <td>12/31/2019 19:19</td>\n",
       "      <td>2019</td>\n",
       "      <td>ONTIME</td>\n",
       "      <td>Closed</td>\n",
       "      <td>Case Closed. Closed date : 2020-01-02 03:43:44...</td>\n",
       "      <td>Transportation - Traffic Division</td>\n",
       "      <td>Enforcement &amp; Abandoned Vehicles</td>\n",
       "      <td>Parking Enforcement</td>\n",
       "      <td>BTDT</td>\n",
       "      <td>https://311.boston.gov/media/boston/report/pho...</td>\n",
       "      <td>3</td>\n",
       "      <td>3</td>\n",
       "      <td>Dorchester</td>\n",
       "      <td>7</td>\n",
       "      <td>22 Treadway Rd</td>\n",
       "      <td>2125.0</td>\n",
       "      <td>42.3137</td>\n",
       "      <td>-71.0585</td>\n",
       "      <td>Citizens Connect App</td>\n",
       "    </tr>\n",
       "    <tr>\n",
       "      <th>49523</th>\n",
       "      <td>60949</td>\n",
       "      <td>12/31/2019 20:55</td>\n",
       "      <td>2019</td>\n",
       "      <td>ONTIME</td>\n",
       "      <td>Closed</td>\n",
       "      <td>Case Closed. Closed date : 2020-01-02 03:44:35...</td>\n",
       "      <td>Transportation - Traffic Division</td>\n",
       "      <td>Enforcement &amp; Abandoned Vehicles</td>\n",
       "      <td>Parking Enforcement</td>\n",
       "      <td>BTDT</td>\n",
       "      <td>NaN</td>\n",
       "      <td>3</td>\n",
       "      <td>4</td>\n",
       "      <td>Dorchester</td>\n",
       "      <td>8</td>\n",
       "      <td>INTERSECTION Nottingham St &amp; Bowdoin Ave</td>\n",
       "      <td>NaN</td>\n",
       "      <td>42.3594</td>\n",
       "      <td>-71.0587</td>\n",
       "      <td>Citizens Connect App</td>\n",
       "    </tr>\n",
       "    <tr>\n",
       "      <th>49524</th>\n",
       "      <td>60950</td>\n",
       "      <td>12/31/2019 22:13</td>\n",
       "      <td>2019</td>\n",
       "      <td>ONTIME</td>\n",
       "      <td>Closed</td>\n",
       "      <td>Case Closed. Closed date : 2020-01-02 03:18:29...</td>\n",
       "      <td>Transportation - Traffic Division</td>\n",
       "      <td>Enforcement &amp; Abandoned Vehicles</td>\n",
       "      <td>Parking Enforcement</td>\n",
       "      <td>BTDT</td>\n",
       "      <td>https://311.boston.gov/media/boston/report/pho...</td>\n",
       "      <td>7</td>\n",
       "      <td>3</td>\n",
       "      <td>Dorchester</td>\n",
       "      <td>7</td>\n",
       "      <td>59 Minot St</td>\n",
       "      <td>2122.0</td>\n",
       "      <td>42.2857</td>\n",
       "      <td>-71.0479</td>\n",
       "      <td>Citizens Connect App</td>\n",
       "    </tr>\n",
       "    <tr>\n",
       "      <th>49525</th>\n",
       "      <td>60951</td>\n",
       "      <td>12/31/2019 22:35</td>\n",
       "      <td>2019</td>\n",
       "      <td>ONTIME</td>\n",
       "      <td>Closed</td>\n",
       "      <td>Case Closed. Closed date : 2020-01-02 03:17:58...</td>\n",
       "      <td>Transportation - Traffic Division</td>\n",
       "      <td>Enforcement &amp; Abandoned Vehicles</td>\n",
       "      <td>Parking Enforcement</td>\n",
       "      <td>BTDT</td>\n",
       "      <td>NaN</td>\n",
       "      <td>7</td>\n",
       "      <td>3</td>\n",
       "      <td>Dorchester</td>\n",
       "      <td>7</td>\n",
       "      <td>INTERSECTION Newhall St &amp; Pierce Ave</td>\n",
       "      <td>NaN</td>\n",
       "      <td>42.3594</td>\n",
       "      <td>-71.0587</td>\n",
       "      <td>Constituent Call</td>\n",
       "    </tr>\n",
       "  </tbody>\n",
       "</table>\n",
       "<p>49526 rows × 20 columns</p>\n",
       "</div>"
      ],
      "text/plain": [
       "       Unnamed: 0           open_dt  Year  ontime case_status  \\\n",
       "0               0     1/1/2021 1:46  2021  ONTIME      Closed   \n",
       "1               2     1/1/2021 4:58  2021  ONTIME      Closed   \n",
       "2               3     1/1/2021 6:11  2021  ONTIME      Closed   \n",
       "3               4     1/1/2021 7:06  2021  ONTIME      Closed   \n",
       "4               6     1/1/2021 7:55  2021  ONTIME      Closed   \n",
       "...           ...               ...   ...     ...         ...   \n",
       "49521       60947  12/31/2019 19:06  2019  ONTIME      Closed   \n",
       "49522       60948  12/31/2019 19:19  2019  ONTIME      Closed   \n",
       "49523       60949  12/31/2019 20:55  2019  ONTIME      Closed   \n",
       "49524       60950  12/31/2019 22:13  2019  ONTIME      Closed   \n",
       "49525       60951  12/31/2019 22:35  2019  ONTIME      Closed   \n",
       "\n",
       "                                          closure_reason  \\\n",
       "0      Case Closed. Closed date : 2021-01-02 12:53:10...   \n",
       "1      Case Closed. Closed date : 2021-01-02 12:56:14...   \n",
       "2      Case Closed. Closed date : 2021-01-02 08:11:45...   \n",
       "3      Case Closed. Closed date : 2021-01-02 12:46:24...   \n",
       "4      Case Closed. Closed date : 2021-01-02 12:53:56...   \n",
       "...                                                  ...   \n",
       "49521  Case Closed. Closed date : 2019-12-31 20:20:49...   \n",
       "49522  Case Closed. Closed date : 2020-01-02 03:43:44...   \n",
       "49523  Case Closed. Closed date : 2020-01-02 03:44:35...   \n",
       "49524  Case Closed. Closed date : 2020-01-02 03:18:29...   \n",
       "49525  Case Closed. Closed date : 2020-01-02 03:17:58...   \n",
       "\n",
       "                                 subject                            reason  \\\n",
       "0      Transportation - Traffic Division  Enforcement & Abandoned Vehicles   \n",
       "1      Transportation - Traffic Division  Enforcement & Abandoned Vehicles   \n",
       "2      Transportation - Traffic Division  Enforcement & Abandoned Vehicles   \n",
       "3      Transportation - Traffic Division  Enforcement & Abandoned Vehicles   \n",
       "4      Transportation - Traffic Division  Enforcement & Abandoned Vehicles   \n",
       "...                                  ...                               ...   \n",
       "49521  Transportation - Traffic Division  Enforcement & Abandoned Vehicles   \n",
       "49522  Transportation - Traffic Division  Enforcement & Abandoned Vehicles   \n",
       "49523  Transportation - Traffic Division  Enforcement & Abandoned Vehicles   \n",
       "49524  Transportation - Traffic Division  Enforcement & Abandoned Vehicles   \n",
       "49525  Transportation - Traffic Division  Enforcement & Abandoned Vehicles   \n",
       "\n",
       "                      type department  \\\n",
       "0      Parking Enforcement       BTDT   \n",
       "1      Parking Enforcement       BTDT   \n",
       "2      Parking Enforcement       BTDT   \n",
       "3      Parking Enforcement       BTDT   \n",
       "4      Parking Enforcement       BTDT   \n",
       "...                    ...        ...   \n",
       "49521  Parking Enforcement       BTDT   \n",
       "49522  Parking Enforcement       BTDT   \n",
       "49523  Parking Enforcement       BTDT   \n",
       "49524  Parking Enforcement       BTDT   \n",
       "49525  Parking Enforcement       BTDT   \n",
       "\n",
       "                                          submittedphoto pwd_district  \\\n",
       "0                                                    NaN          10B   \n",
       "1                                                    NaN            7   \n",
       "2      https://311.boston.gov/media/boston/report/pho...           1C   \n",
       "3      https://311.boston.gov/media/boston/report/pho...            3   \n",
       "4                                                    NaN            3   \n",
       "...                                                  ...          ...   \n",
       "49521                                                NaN           1C   \n",
       "49522  https://311.boston.gov/media/boston/report/pho...            3   \n",
       "49523                                                NaN            3   \n",
       "49524  https://311.boston.gov/media/boston/report/pho...            7   \n",
       "49525                                                NaN            7   \n",
       "\n",
       "       city_council_district neighborhood  neighborhood_services_district  \\\n",
       "0                          9      Roxbury                              13   \n",
       "1                          4   Dorchester                               9   \n",
       "2                          2    South End                               6   \n",
       "3                          2   Dorchester                               5   \n",
       "4                          3   Dorchester                               7   \n",
       "...                      ...          ...                             ...   \n",
       "49521                      2    South End                               6   \n",
       "49522                      3   Dorchester                               7   \n",
       "49523                      4   Dorchester                               8   \n",
       "49524                      3   Dorchester                               7   \n",
       "49525                      3   Dorchester                               7   \n",
       "\n",
       "                           location_street_name  location_zipcode  latitude  \\\n",
       "0        INTERSECTION Elmore St & Kensington St               NaN   42.3594   \n",
       "1                              27 W Tremlett St            2124.0   42.2944   \n",
       "2        INTERSECTION Chandler St & Cazenove St               NaN   42.3594   \n",
       "3                                  50 Dorset St            2125.0   42.3239   \n",
       "4                                18 Hinckley St            2125.0   42.3173   \n",
       "...                                         ...               ...       ...   \n",
       "49521                                42 Paul Pl            2118.0   42.3467   \n",
       "49522                            22 Treadway Rd            2125.0   42.3137   \n",
       "49523  INTERSECTION Nottingham St & Bowdoin Ave               NaN   42.3594   \n",
       "49524                               59 Minot St            2122.0   42.2857   \n",
       "49525      INTERSECTION Newhall St & Pierce Ave               NaN   42.3594   \n",
       "\n",
       "       longitude                source  \n",
       "0       -71.0587      Constituent Call  \n",
       "1       -71.0734  Citizens Connect App  \n",
       "2       -71.0587  Citizens Connect App  \n",
       "3       -71.0592  Citizens Connect App  \n",
       "4       -71.0603  Citizens Connect App  \n",
       "...          ...                   ...  \n",
       "49521   -71.0678  Citizens Connect App  \n",
       "49522   -71.0585  Citizens Connect App  \n",
       "49523   -71.0587  Citizens Connect App  \n",
       "49524   -71.0479  Citizens Connect App  \n",
       "49525   -71.0587      Constituent Call  \n",
       "\n",
       "[49526 rows x 20 columns]"
      ]
     },
     "execution_count": 9,
     "metadata": {},
     "output_type": "execute_result"
    }
   ],
   "source": [
    "# Read in the data containing complaints regarding parked vehicles, abandoned vehicles, and transportation\n",
    "vehicle_comps = pd.read_csv('Data/vehicle_complaints.csv')\n",
    "\n",
    "# Visualize the data\n",
    "vehicle_comps"
   ]
  },
  {
   "cell_type": "code",
   "execution_count": 10,
   "id": "584b1309",
   "metadata": {},
   "outputs": [],
   "source": [
    "# Import plotly library\n",
    "import plotly.graph_objects as go\n",
    "\n",
    "# Create necessary functions to create the sankey diagram\n",
    "def code_mapping(df, src, targ):\n",
    "    '''\n",
    "    Maps labels in src and targ columns to integers\n",
    "\n",
    "    :param df: A Dataframe containing at least a source and target column\n",
    "    :param src: The column containing labels you want for the source nodes\n",
    "    :param targ: The column containing labels you want for the target nodes\n",
    "    :return:\n",
    "    '''\n",
    "    # Extract distinct labels for the Sankey nodes\n",
    "    labels = list(df[src]) + list(df[targ])\n",
    "\n",
    "    # Define a list of integer codes\n",
    "    codes = list(range(len(labels)))\n",
    "\n",
    "    # Create a dictionary mapping the labels to random codes\n",
    "    lc_map = dict(zip(labels, codes))\n",
    "\n",
    "    # In the df, substitute the codes for the labels\n",
    "    df = df.replace({src: lc_map, targ: lc_map})\n",
    "\n",
    "    return df, labels\n",
    "\n",
    "def make_sankey(df, src, targ, title, vals=None, **kwargs):\n",
    "    '''\n",
    "    Generates the sankey diagram\n",
    "\n",
    "    :param df: a Dataframe containing the data needed for the Sankey diagram\n",
    "    :param src: the column name that has the data for the source nodes\n",
    "    :param targ: the column name that has the data for the target nodes\n",
    "    :param title: the title for the Sankey diagram\n",
    "    :param vals: the frequency counts of links\n",
    "    :param kwargs: any other arguments needed to customize the Sankey diagram\n",
    "    :return: the Sankey diagram\n",
    "    '''\n",
    "    # Call the code_mapping function to get a revised Dataframe and labels\n",
    "    df, labels = code_mapping(df, src, targ)\n",
    "\n",
    "    # Retrieve the 'Value' data\n",
    "    if vals:\n",
    "        values = df[vals]\n",
    "\n",
    "    # If 'Value' is not given as a parameter, set all values to zero\n",
    "    else:\n",
    "        values = [1] * len(df)\n",
    "\n",
    "    # Customize the Sankey diagram\n",
    "    pad = kwargs.get('pad', 10)\n",
    "    thickness = kwargs.get('thickness', 70)\n",
    "    line_color = kwargs.get('line_color', 'black')\n",
    "    line_width = kwargs.get('line_width', 1)\n",
    "\n",
    "    # Create the links and nodes for the Sankey diagram\n",
    "    link = {'source': df[src], 'target': df[targ], 'value': values}\n",
    "    node = {'label': labels, 'pad':pad, 'thickness':thickness, 'line':{'color':line_color, 'width':line_width}}\n",
    "\n",
    "    # Graph the Sankey Diagram\n",
    "    sk = go.Sankey(link=link, node=node)\n",
    "    fig = go.Figure(sk)\n",
    "    fig.update_layout(title_text=title, font_size=10)\n",
    "    \n",
    "    return fig"
   ]
  },
  {
   "cell_type": "code",
   "execution_count": 11,
   "id": "95d6fb22",
   "metadata": {},
   "outputs": [],
   "source": [
    "# Filter the data to only include the columns needed for the Sankey\n",
    "vehicle_comps = vehicle_comps.filter(items=['type', 'neighborhood'], axis=1)\n",
    "\n",
    "# Add a value colum to the data\n",
    "sankey_df = vehicle_comps.groupby(vehicle_comps.columns.to_list(), as_index=False).size()\n",
    "sankey_df = sankey_df.rename(columns={'size':'Value'})"
   ]
  },
  {
   "cell_type": "code",
   "execution_count": 12,
   "id": "2fa160e1",
   "metadata": {},
   "outputs": [
    {
     "data": {
      "application/vnd.plotly.v1+json": {
       "config": {
        "plotlyServerURL": "https://plotly.com"
       },
       "data": [
        {
         "link": {
          "source": [
           39,
           35,
           36,
           37,
           38,
           39,
           35,
           36,
           37,
           38,
           35,
           36,
           39,
           35,
           36,
           37,
           38,
           39,
           35,
           36,
           38,
           39,
           35,
           36,
           37,
           38,
           36,
           37,
           38,
           39,
           35,
           36,
           37,
           38,
           39,
           35,
           36,
           37,
           38,
           39
          ],
          "target": [
           44,
           44,
           44,
           44,
           44,
           49,
           49,
           49,
           49,
           49,
           51,
           51,
           56,
           56,
           56,
           56,
           56,
           60,
           60,
           60,
           60,
           65,
           65,
           65,
           65,
           65,
           68,
           68,
           68,
           73,
           73,
           73,
           73,
           73,
           78,
           78,
           78,
           78,
           78,
           79
          ],
          "value": [
           123,
           3887,
           2079,
           68,
           237,
           7,
           46,
           30,
           2,
           6,
           1,
           9,
           5658,
           18907,
           7448,
           1974,
           7709,
           46,
           3,
           5,
           15,
           11,
           165,
           85,
           13,
           11,
           1,
           1,
           1,
           5,
           383,
           211,
           8,
           25,
           53,
           138,
           102,
           5,
           46,
           2
          ]
         },
         "node": {
          "label": [
           "Back Bay",
           "Dorchester",
           "Roxbury",
           "South Boston",
           "South End",
           "Back Bay",
           "Dorchester",
           "Roxbury",
           "South Boston",
           "South End",
           "Dorchester",
           "Roxbury",
           "Back Bay",
           "Dorchester",
           "Roxbury",
           "South Boston",
           "South End",
           "Back Bay",
           "Dorchester",
           "Roxbury",
           "South End",
           "Back Bay",
           "Dorchester",
           "Roxbury",
           "South Boston",
           "South End",
           "Roxbury",
           "South Boston",
           "South End",
           "Back Bay",
           "Dorchester",
           "Roxbury",
           "South Boston",
           "South End",
           "Back Bay",
           "Dorchester",
           "Roxbury",
           "South Boston",
           "South End",
           "Back Bay",
           "Abandoned Vehicles",
           "Abandoned Vehicles",
           "Abandoned Vehicles",
           "Abandoned Vehicles",
           "Abandoned Vehicles",
           "General Traffic Engineering Request",
           "General Traffic Engineering Request",
           "General Traffic Engineering Request",
           "General Traffic Engineering Request",
           "General Traffic Engineering Request",
           "Municipal Parking Lot Complaints",
           "Municipal Parking Lot Complaints",
           "Parking Enforcement",
           "Parking Enforcement",
           "Parking Enforcement",
           "Parking Enforcement",
           "Parking Enforcement",
           "Parking Meter Repairs",
           "Parking Meter Repairs",
           "Parking Meter Repairs",
           "Parking Meter Repairs",
           "Parking on Front/Back Yards (Illegal Parking)",
           "Parking on Front/Back Yards (Illegal Parking)",
           "Parking on Front/Back Yards (Illegal Parking)",
           "Parking on Front/Back Yards (Illegal Parking)",
           "Parking on Front/Back Yards (Illegal Parking)",
           "Private Parking Lot Complaints",
           "Private Parking Lot Complaints",
           "Private Parking Lot Complaints",
           "Space Savers",
           "Space Savers",
           "Space Savers",
           "Space Savers",
           "Space Savers",
           "Transportation General Request",
           "Transportation General Request",
           "Transportation General Request",
           "Transportation General Request",
           "Transportation General Request",
           "Valet Parking Problems"
          ],
          "line": {
           "color": "black",
           "width": 1
          },
          "pad": 10,
          "thickness": 70
         },
         "type": "sankey"
        }
       ],
       "layout": {
        "font": {
         "size": 10
        },
        "template": {
         "data": {
          "bar": [
           {
            "error_x": {
             "color": "#2a3f5f"
            },
            "error_y": {
             "color": "#2a3f5f"
            },
            "marker": {
             "line": {
              "color": "#E5ECF6",
              "width": 0.5
             },
             "pattern": {
              "fillmode": "overlay",
              "size": 10,
              "solidity": 0.2
             }
            },
            "type": "bar"
           }
          ],
          "barpolar": [
           {
            "marker": {
             "line": {
              "color": "#E5ECF6",
              "width": 0.5
             },
             "pattern": {
              "fillmode": "overlay",
              "size": 10,
              "solidity": 0.2
             }
            },
            "type": "barpolar"
           }
          ],
          "carpet": [
           {
            "aaxis": {
             "endlinecolor": "#2a3f5f",
             "gridcolor": "white",
             "linecolor": "white",
             "minorgridcolor": "white",
             "startlinecolor": "#2a3f5f"
            },
            "baxis": {
             "endlinecolor": "#2a3f5f",
             "gridcolor": "white",
             "linecolor": "white",
             "minorgridcolor": "white",
             "startlinecolor": "#2a3f5f"
            },
            "type": "carpet"
           }
          ],
          "choropleth": [
           {
            "colorbar": {
             "outlinewidth": 0,
             "ticks": ""
            },
            "type": "choropleth"
           }
          ],
          "contour": [
           {
            "colorbar": {
             "outlinewidth": 0,
             "ticks": ""
            },
            "colorscale": [
             [
              0,
              "#0d0887"
             ],
             [
              0.1111111111111111,
              "#46039f"
             ],
             [
              0.2222222222222222,
              "#7201a8"
             ],
             [
              0.3333333333333333,
              "#9c179e"
             ],
             [
              0.4444444444444444,
              "#bd3786"
             ],
             [
              0.5555555555555556,
              "#d8576b"
             ],
             [
              0.6666666666666666,
              "#ed7953"
             ],
             [
              0.7777777777777778,
              "#fb9f3a"
             ],
             [
              0.8888888888888888,
              "#fdca26"
             ],
             [
              1,
              "#f0f921"
             ]
            ],
            "type": "contour"
           }
          ],
          "contourcarpet": [
           {
            "colorbar": {
             "outlinewidth": 0,
             "ticks": ""
            },
            "type": "contourcarpet"
           }
          ],
          "heatmap": [
           {
            "colorbar": {
             "outlinewidth": 0,
             "ticks": ""
            },
            "colorscale": [
             [
              0,
              "#0d0887"
             ],
             [
              0.1111111111111111,
              "#46039f"
             ],
             [
              0.2222222222222222,
              "#7201a8"
             ],
             [
              0.3333333333333333,
              "#9c179e"
             ],
             [
              0.4444444444444444,
              "#bd3786"
             ],
             [
              0.5555555555555556,
              "#d8576b"
             ],
             [
              0.6666666666666666,
              "#ed7953"
             ],
             [
              0.7777777777777778,
              "#fb9f3a"
             ],
             [
              0.8888888888888888,
              "#fdca26"
             ],
             [
              1,
              "#f0f921"
             ]
            ],
            "type": "heatmap"
           }
          ],
          "heatmapgl": [
           {
            "colorbar": {
             "outlinewidth": 0,
             "ticks": ""
            },
            "colorscale": [
             [
              0,
              "#0d0887"
             ],
             [
              0.1111111111111111,
              "#46039f"
             ],
             [
              0.2222222222222222,
              "#7201a8"
             ],
             [
              0.3333333333333333,
              "#9c179e"
             ],
             [
              0.4444444444444444,
              "#bd3786"
             ],
             [
              0.5555555555555556,
              "#d8576b"
             ],
             [
              0.6666666666666666,
              "#ed7953"
             ],
             [
              0.7777777777777778,
              "#fb9f3a"
             ],
             [
              0.8888888888888888,
              "#fdca26"
             ],
             [
              1,
              "#f0f921"
             ]
            ],
            "type": "heatmapgl"
           }
          ],
          "histogram": [
           {
            "marker": {
             "pattern": {
              "fillmode": "overlay",
              "size": 10,
              "solidity": 0.2
             }
            },
            "type": "histogram"
           }
          ],
          "histogram2d": [
           {
            "colorbar": {
             "outlinewidth": 0,
             "ticks": ""
            },
            "colorscale": [
             [
              0,
              "#0d0887"
             ],
             [
              0.1111111111111111,
              "#46039f"
             ],
             [
              0.2222222222222222,
              "#7201a8"
             ],
             [
              0.3333333333333333,
              "#9c179e"
             ],
             [
              0.4444444444444444,
              "#bd3786"
             ],
             [
              0.5555555555555556,
              "#d8576b"
             ],
             [
              0.6666666666666666,
              "#ed7953"
             ],
             [
              0.7777777777777778,
              "#fb9f3a"
             ],
             [
              0.8888888888888888,
              "#fdca26"
             ],
             [
              1,
              "#f0f921"
             ]
            ],
            "type": "histogram2d"
           }
          ],
          "histogram2dcontour": [
           {
            "colorbar": {
             "outlinewidth": 0,
             "ticks": ""
            },
            "colorscale": [
             [
              0,
              "#0d0887"
             ],
             [
              0.1111111111111111,
              "#46039f"
             ],
             [
              0.2222222222222222,
              "#7201a8"
             ],
             [
              0.3333333333333333,
              "#9c179e"
             ],
             [
              0.4444444444444444,
              "#bd3786"
             ],
             [
              0.5555555555555556,
              "#d8576b"
             ],
             [
              0.6666666666666666,
              "#ed7953"
             ],
             [
              0.7777777777777778,
              "#fb9f3a"
             ],
             [
              0.8888888888888888,
              "#fdca26"
             ],
             [
              1,
              "#f0f921"
             ]
            ],
            "type": "histogram2dcontour"
           }
          ],
          "mesh3d": [
           {
            "colorbar": {
             "outlinewidth": 0,
             "ticks": ""
            },
            "type": "mesh3d"
           }
          ],
          "parcoords": [
           {
            "line": {
             "colorbar": {
              "outlinewidth": 0,
              "ticks": ""
             }
            },
            "type": "parcoords"
           }
          ],
          "pie": [
           {
            "automargin": true,
            "type": "pie"
           }
          ],
          "scatter": [
           {
            "fillpattern": {
             "fillmode": "overlay",
             "size": 10,
             "solidity": 0.2
            },
            "type": "scatter"
           }
          ],
          "scatter3d": [
           {
            "line": {
             "colorbar": {
              "outlinewidth": 0,
              "ticks": ""
             }
            },
            "marker": {
             "colorbar": {
              "outlinewidth": 0,
              "ticks": ""
             }
            },
            "type": "scatter3d"
           }
          ],
          "scattercarpet": [
           {
            "marker": {
             "colorbar": {
              "outlinewidth": 0,
              "ticks": ""
             }
            },
            "type": "scattercarpet"
           }
          ],
          "scattergeo": [
           {
            "marker": {
             "colorbar": {
              "outlinewidth": 0,
              "ticks": ""
             }
            },
            "type": "scattergeo"
           }
          ],
          "scattergl": [
           {
            "marker": {
             "colorbar": {
              "outlinewidth": 0,
              "ticks": ""
             }
            },
            "type": "scattergl"
           }
          ],
          "scattermapbox": [
           {
            "marker": {
             "colorbar": {
              "outlinewidth": 0,
              "ticks": ""
             }
            },
            "type": "scattermapbox"
           }
          ],
          "scatterpolar": [
           {
            "marker": {
             "colorbar": {
              "outlinewidth": 0,
              "ticks": ""
             }
            },
            "type": "scatterpolar"
           }
          ],
          "scatterpolargl": [
           {
            "marker": {
             "colorbar": {
              "outlinewidth": 0,
              "ticks": ""
             }
            },
            "type": "scatterpolargl"
           }
          ],
          "scatterternary": [
           {
            "marker": {
             "colorbar": {
              "outlinewidth": 0,
              "ticks": ""
             }
            },
            "type": "scatterternary"
           }
          ],
          "surface": [
           {
            "colorbar": {
             "outlinewidth": 0,
             "ticks": ""
            },
            "colorscale": [
             [
              0,
              "#0d0887"
             ],
             [
              0.1111111111111111,
              "#46039f"
             ],
             [
              0.2222222222222222,
              "#7201a8"
             ],
             [
              0.3333333333333333,
              "#9c179e"
             ],
             [
              0.4444444444444444,
              "#bd3786"
             ],
             [
              0.5555555555555556,
              "#d8576b"
             ],
             [
              0.6666666666666666,
              "#ed7953"
             ],
             [
              0.7777777777777778,
              "#fb9f3a"
             ],
             [
              0.8888888888888888,
              "#fdca26"
             ],
             [
              1,
              "#f0f921"
             ]
            ],
            "type": "surface"
           }
          ],
          "table": [
           {
            "cells": {
             "fill": {
              "color": "#EBF0F8"
             },
             "line": {
              "color": "white"
             }
            },
            "header": {
             "fill": {
              "color": "#C8D4E3"
             },
             "line": {
              "color": "white"
             }
            },
            "type": "table"
           }
          ]
         },
         "layout": {
          "annotationdefaults": {
           "arrowcolor": "#2a3f5f",
           "arrowhead": 0,
           "arrowwidth": 1
          },
          "autotypenumbers": "strict",
          "coloraxis": {
           "colorbar": {
            "outlinewidth": 0,
            "ticks": ""
           }
          },
          "colorscale": {
           "diverging": [
            [
             0,
             "#8e0152"
            ],
            [
             0.1,
             "#c51b7d"
            ],
            [
             0.2,
             "#de77ae"
            ],
            [
             0.3,
             "#f1b6da"
            ],
            [
             0.4,
             "#fde0ef"
            ],
            [
             0.5,
             "#f7f7f7"
            ],
            [
             0.6,
             "#e6f5d0"
            ],
            [
             0.7,
             "#b8e186"
            ],
            [
             0.8,
             "#7fbc41"
            ],
            [
             0.9,
             "#4d9221"
            ],
            [
             1,
             "#276419"
            ]
           ],
           "sequential": [
            [
             0,
             "#0d0887"
            ],
            [
             0.1111111111111111,
             "#46039f"
            ],
            [
             0.2222222222222222,
             "#7201a8"
            ],
            [
             0.3333333333333333,
             "#9c179e"
            ],
            [
             0.4444444444444444,
             "#bd3786"
            ],
            [
             0.5555555555555556,
             "#d8576b"
            ],
            [
             0.6666666666666666,
             "#ed7953"
            ],
            [
             0.7777777777777778,
             "#fb9f3a"
            ],
            [
             0.8888888888888888,
             "#fdca26"
            ],
            [
             1,
             "#f0f921"
            ]
           ],
           "sequentialminus": [
            [
             0,
             "#0d0887"
            ],
            [
             0.1111111111111111,
             "#46039f"
            ],
            [
             0.2222222222222222,
             "#7201a8"
            ],
            [
             0.3333333333333333,
             "#9c179e"
            ],
            [
             0.4444444444444444,
             "#bd3786"
            ],
            [
             0.5555555555555556,
             "#d8576b"
            ],
            [
             0.6666666666666666,
             "#ed7953"
            ],
            [
             0.7777777777777778,
             "#fb9f3a"
            ],
            [
             0.8888888888888888,
             "#fdca26"
            ],
            [
             1,
             "#f0f921"
            ]
           ]
          },
          "colorway": [
           "#636efa",
           "#EF553B",
           "#00cc96",
           "#ab63fa",
           "#FFA15A",
           "#19d3f3",
           "#FF6692",
           "#B6E880",
           "#FF97FF",
           "#FECB52"
          ],
          "font": {
           "color": "#2a3f5f"
          },
          "geo": {
           "bgcolor": "white",
           "lakecolor": "white",
           "landcolor": "#E5ECF6",
           "showlakes": true,
           "showland": true,
           "subunitcolor": "white"
          },
          "hoverlabel": {
           "align": "left"
          },
          "hovermode": "closest",
          "mapbox": {
           "style": "light"
          },
          "paper_bgcolor": "white",
          "plot_bgcolor": "#E5ECF6",
          "polar": {
           "angularaxis": {
            "gridcolor": "white",
            "linecolor": "white",
            "ticks": ""
           },
           "bgcolor": "#E5ECF6",
           "radialaxis": {
            "gridcolor": "white",
            "linecolor": "white",
            "ticks": ""
           }
          },
          "scene": {
           "xaxis": {
            "backgroundcolor": "#E5ECF6",
            "gridcolor": "white",
            "gridwidth": 2,
            "linecolor": "white",
            "showbackground": true,
            "ticks": "",
            "zerolinecolor": "white"
           },
           "yaxis": {
            "backgroundcolor": "#E5ECF6",
            "gridcolor": "white",
            "gridwidth": 2,
            "linecolor": "white",
            "showbackground": true,
            "ticks": "",
            "zerolinecolor": "white"
           },
           "zaxis": {
            "backgroundcolor": "#E5ECF6",
            "gridcolor": "white",
            "gridwidth": 2,
            "linecolor": "white",
            "showbackground": true,
            "ticks": "",
            "zerolinecolor": "white"
           }
          },
          "shapedefaults": {
           "line": {
            "color": "#2a3f5f"
           }
          },
          "ternary": {
           "aaxis": {
            "gridcolor": "white",
            "linecolor": "white",
            "ticks": ""
           },
           "baxis": {
            "gridcolor": "white",
            "linecolor": "white",
            "ticks": ""
           },
           "bgcolor": "#E5ECF6",
           "caxis": {
            "gridcolor": "white",
            "linecolor": "white",
            "ticks": ""
           }
          },
          "title": {
           "x": 0.05
          },
          "xaxis": {
           "automargin": true,
           "gridcolor": "white",
           "linecolor": "white",
           "ticks": "",
           "title": {
            "standoff": 15
           },
           "zerolinecolor": "white",
           "zerolinewidth": 2
          },
          "yaxis": {
           "automargin": true,
           "gridcolor": "white",
           "linecolor": "white",
           "ticks": "",
           "title": {
            "standoff": 15
           },
           "zerolinecolor": "white",
           "zerolinewidth": 2
          }
         }
        },
        "title": {
         "text": "Sankey Diagram Mapping Neighborhoods to Complaints Regarding Parked Vehicles, Abandoned Vehicles, and the Flow of Traffic"
        }
       }
      },
      "text/html": [
       "<div>                            <div id=\"4e95adee-c157-4ccf-a73c-530b8f110356\" class=\"plotly-graph-div\" style=\"height:525px; width:100%;\"></div>            <script type=\"text/javascript\">                require([\"plotly\"], function(Plotly) {                    window.PLOTLYENV=window.PLOTLYENV || {};                                    if (document.getElementById(\"4e95adee-c157-4ccf-a73c-530b8f110356\")) {                    Plotly.newPlot(                        \"4e95adee-c157-4ccf-a73c-530b8f110356\",                        [{\"link\":{\"source\":[39,35,36,37,38,39,35,36,37,38,35,36,39,35,36,37,38,39,35,36,38,39,35,36,37,38,36,37,38,39,35,36,37,38,39,35,36,37,38,39],\"target\":[44,44,44,44,44,49,49,49,49,49,51,51,56,56,56,56,56,60,60,60,60,65,65,65,65,65,68,68,68,73,73,73,73,73,78,78,78,78,78,79],\"value\":[123,3887,2079,68,237,7,46,30,2,6,1,9,5658,18907,7448,1974,7709,46,3,5,15,11,165,85,13,11,1,1,1,5,383,211,8,25,53,138,102,5,46,2]},\"node\":{\"label\":[\"Back Bay\",\"Dorchester\",\"Roxbury\",\"South Boston\",\"South End\",\"Back Bay\",\"Dorchester\",\"Roxbury\",\"South Boston\",\"South End\",\"Dorchester\",\"Roxbury\",\"Back Bay\",\"Dorchester\",\"Roxbury\",\"South Boston\",\"South End\",\"Back Bay\",\"Dorchester\",\"Roxbury\",\"South End\",\"Back Bay\",\"Dorchester\",\"Roxbury\",\"South Boston\",\"South End\",\"Roxbury\",\"South Boston\",\"South End\",\"Back Bay\",\"Dorchester\",\"Roxbury\",\"South Boston\",\"South End\",\"Back Bay\",\"Dorchester\",\"Roxbury\",\"South Boston\",\"South End\",\"Back Bay\",\"Abandoned Vehicles\",\"Abandoned Vehicles\",\"Abandoned Vehicles\",\"Abandoned Vehicles\",\"Abandoned Vehicles\",\"General Traffic Engineering Request\",\"General Traffic Engineering Request\",\"General Traffic Engineering Request\",\"General Traffic Engineering Request\",\"General Traffic Engineering Request\",\"Municipal Parking Lot Complaints\",\"Municipal Parking Lot Complaints\",\"Parking Enforcement\",\"Parking Enforcement\",\"Parking Enforcement\",\"Parking Enforcement\",\"Parking Enforcement\",\"Parking Meter Repairs\",\"Parking Meter Repairs\",\"Parking Meter Repairs\",\"Parking Meter Repairs\",\"Parking on Front/Back Yards (Illegal Parking)\",\"Parking on Front/Back Yards (Illegal Parking)\",\"Parking on Front/Back Yards (Illegal Parking)\",\"Parking on Front/Back Yards (Illegal Parking)\",\"Parking on Front/Back Yards (Illegal Parking)\",\"Private Parking Lot Complaints\",\"Private Parking Lot Complaints\",\"Private Parking Lot Complaints\",\"Space Savers\",\"Space Savers\",\"Space Savers\",\"Space Savers\",\"Space Savers\",\"Transportation General Request\",\"Transportation General Request\",\"Transportation General Request\",\"Transportation General Request\",\"Transportation General Request\",\"Valet Parking Problems\"],\"line\":{\"color\":\"black\",\"width\":1},\"pad\":10,\"thickness\":70},\"type\":\"sankey\"}],                        {\"template\":{\"data\":{\"histogram2dcontour\":[{\"type\":\"histogram2dcontour\",\"colorbar\":{\"outlinewidth\":0,\"ticks\":\"\"},\"colorscale\":[[0.0,\"#0d0887\"],[0.1111111111111111,\"#46039f\"],[0.2222222222222222,\"#7201a8\"],[0.3333333333333333,\"#9c179e\"],[0.4444444444444444,\"#bd3786\"],[0.5555555555555556,\"#d8576b\"],[0.6666666666666666,\"#ed7953\"],[0.7777777777777778,\"#fb9f3a\"],[0.8888888888888888,\"#fdca26\"],[1.0,\"#f0f921\"]]}],\"choropleth\":[{\"type\":\"choropleth\",\"colorbar\":{\"outlinewidth\":0,\"ticks\":\"\"}}],\"histogram2d\":[{\"type\":\"histogram2d\",\"colorbar\":{\"outlinewidth\":0,\"ticks\":\"\"},\"colorscale\":[[0.0,\"#0d0887\"],[0.1111111111111111,\"#46039f\"],[0.2222222222222222,\"#7201a8\"],[0.3333333333333333,\"#9c179e\"],[0.4444444444444444,\"#bd3786\"],[0.5555555555555556,\"#d8576b\"],[0.6666666666666666,\"#ed7953\"],[0.7777777777777778,\"#fb9f3a\"],[0.8888888888888888,\"#fdca26\"],[1.0,\"#f0f921\"]]}],\"heatmap\":[{\"type\":\"heatmap\",\"colorbar\":{\"outlinewidth\":0,\"ticks\":\"\"},\"colorscale\":[[0.0,\"#0d0887\"],[0.1111111111111111,\"#46039f\"],[0.2222222222222222,\"#7201a8\"],[0.3333333333333333,\"#9c179e\"],[0.4444444444444444,\"#bd3786\"],[0.5555555555555556,\"#d8576b\"],[0.6666666666666666,\"#ed7953\"],[0.7777777777777778,\"#fb9f3a\"],[0.8888888888888888,\"#fdca26\"],[1.0,\"#f0f921\"]]}],\"heatmapgl\":[{\"type\":\"heatmapgl\",\"colorbar\":{\"outlinewidth\":0,\"ticks\":\"\"},\"colorscale\":[[0.0,\"#0d0887\"],[0.1111111111111111,\"#46039f\"],[0.2222222222222222,\"#7201a8\"],[0.3333333333333333,\"#9c179e\"],[0.4444444444444444,\"#bd3786\"],[0.5555555555555556,\"#d8576b\"],[0.6666666666666666,\"#ed7953\"],[0.7777777777777778,\"#fb9f3a\"],[0.8888888888888888,\"#fdca26\"],[1.0,\"#f0f921\"]]}],\"contourcarpet\":[{\"type\":\"contourcarpet\",\"colorbar\":{\"outlinewidth\":0,\"ticks\":\"\"}}],\"contour\":[{\"type\":\"contour\",\"colorbar\":{\"outlinewidth\":0,\"ticks\":\"\"},\"colorscale\":[[0.0,\"#0d0887\"],[0.1111111111111111,\"#46039f\"],[0.2222222222222222,\"#7201a8\"],[0.3333333333333333,\"#9c179e\"],[0.4444444444444444,\"#bd3786\"],[0.5555555555555556,\"#d8576b\"],[0.6666666666666666,\"#ed7953\"],[0.7777777777777778,\"#fb9f3a\"],[0.8888888888888888,\"#fdca26\"],[1.0,\"#f0f921\"]]}],\"surface\":[{\"type\":\"surface\",\"colorbar\":{\"outlinewidth\":0,\"ticks\":\"\"},\"colorscale\":[[0.0,\"#0d0887\"],[0.1111111111111111,\"#46039f\"],[0.2222222222222222,\"#7201a8\"],[0.3333333333333333,\"#9c179e\"],[0.4444444444444444,\"#bd3786\"],[0.5555555555555556,\"#d8576b\"],[0.6666666666666666,\"#ed7953\"],[0.7777777777777778,\"#fb9f3a\"],[0.8888888888888888,\"#fdca26\"],[1.0,\"#f0f921\"]]}],\"mesh3d\":[{\"type\":\"mesh3d\",\"colorbar\":{\"outlinewidth\":0,\"ticks\":\"\"}}],\"scatter\":[{\"fillpattern\":{\"fillmode\":\"overlay\",\"size\":10,\"solidity\":0.2},\"type\":\"scatter\"}],\"parcoords\":[{\"type\":\"parcoords\",\"line\":{\"colorbar\":{\"outlinewidth\":0,\"ticks\":\"\"}}}],\"scatterpolargl\":[{\"type\":\"scatterpolargl\",\"marker\":{\"colorbar\":{\"outlinewidth\":0,\"ticks\":\"\"}}}],\"bar\":[{\"error_x\":{\"color\":\"#2a3f5f\"},\"error_y\":{\"color\":\"#2a3f5f\"},\"marker\":{\"line\":{\"color\":\"#E5ECF6\",\"width\":0.5},\"pattern\":{\"fillmode\":\"overlay\",\"size\":10,\"solidity\":0.2}},\"type\":\"bar\"}],\"scattergeo\":[{\"type\":\"scattergeo\",\"marker\":{\"colorbar\":{\"outlinewidth\":0,\"ticks\":\"\"}}}],\"scatterpolar\":[{\"type\":\"scatterpolar\",\"marker\":{\"colorbar\":{\"outlinewidth\":0,\"ticks\":\"\"}}}],\"histogram\":[{\"marker\":{\"pattern\":{\"fillmode\":\"overlay\",\"size\":10,\"solidity\":0.2}},\"type\":\"histogram\"}],\"scattergl\":[{\"type\":\"scattergl\",\"marker\":{\"colorbar\":{\"outlinewidth\":0,\"ticks\":\"\"}}}],\"scatter3d\":[{\"type\":\"scatter3d\",\"line\":{\"colorbar\":{\"outlinewidth\":0,\"ticks\":\"\"}},\"marker\":{\"colorbar\":{\"outlinewidth\":0,\"ticks\":\"\"}}}],\"scattermapbox\":[{\"type\":\"scattermapbox\",\"marker\":{\"colorbar\":{\"outlinewidth\":0,\"ticks\":\"\"}}}],\"scatterternary\":[{\"type\":\"scatterternary\",\"marker\":{\"colorbar\":{\"outlinewidth\":0,\"ticks\":\"\"}}}],\"scattercarpet\":[{\"type\":\"scattercarpet\",\"marker\":{\"colorbar\":{\"outlinewidth\":0,\"ticks\":\"\"}}}],\"carpet\":[{\"aaxis\":{\"endlinecolor\":\"#2a3f5f\",\"gridcolor\":\"white\",\"linecolor\":\"white\",\"minorgridcolor\":\"white\",\"startlinecolor\":\"#2a3f5f\"},\"baxis\":{\"endlinecolor\":\"#2a3f5f\",\"gridcolor\":\"white\",\"linecolor\":\"white\",\"minorgridcolor\":\"white\",\"startlinecolor\":\"#2a3f5f\"},\"type\":\"carpet\"}],\"table\":[{\"cells\":{\"fill\":{\"color\":\"#EBF0F8\"},\"line\":{\"color\":\"white\"}},\"header\":{\"fill\":{\"color\":\"#C8D4E3\"},\"line\":{\"color\":\"white\"}},\"type\":\"table\"}],\"barpolar\":[{\"marker\":{\"line\":{\"color\":\"#E5ECF6\",\"width\":0.5},\"pattern\":{\"fillmode\":\"overlay\",\"size\":10,\"solidity\":0.2}},\"type\":\"barpolar\"}],\"pie\":[{\"automargin\":true,\"type\":\"pie\"}]},\"layout\":{\"autotypenumbers\":\"strict\",\"colorway\":[\"#636efa\",\"#EF553B\",\"#00cc96\",\"#ab63fa\",\"#FFA15A\",\"#19d3f3\",\"#FF6692\",\"#B6E880\",\"#FF97FF\",\"#FECB52\"],\"font\":{\"color\":\"#2a3f5f\"},\"hovermode\":\"closest\",\"hoverlabel\":{\"align\":\"left\"},\"paper_bgcolor\":\"white\",\"plot_bgcolor\":\"#E5ECF6\",\"polar\":{\"bgcolor\":\"#E5ECF6\",\"angularaxis\":{\"gridcolor\":\"white\",\"linecolor\":\"white\",\"ticks\":\"\"},\"radialaxis\":{\"gridcolor\":\"white\",\"linecolor\":\"white\",\"ticks\":\"\"}},\"ternary\":{\"bgcolor\":\"#E5ECF6\",\"aaxis\":{\"gridcolor\":\"white\",\"linecolor\":\"white\",\"ticks\":\"\"},\"baxis\":{\"gridcolor\":\"white\",\"linecolor\":\"white\",\"ticks\":\"\"},\"caxis\":{\"gridcolor\":\"white\",\"linecolor\":\"white\",\"ticks\":\"\"}},\"coloraxis\":{\"colorbar\":{\"outlinewidth\":0,\"ticks\":\"\"}},\"colorscale\":{\"sequential\":[[0.0,\"#0d0887\"],[0.1111111111111111,\"#46039f\"],[0.2222222222222222,\"#7201a8\"],[0.3333333333333333,\"#9c179e\"],[0.4444444444444444,\"#bd3786\"],[0.5555555555555556,\"#d8576b\"],[0.6666666666666666,\"#ed7953\"],[0.7777777777777778,\"#fb9f3a\"],[0.8888888888888888,\"#fdca26\"],[1.0,\"#f0f921\"]],\"sequentialminus\":[[0.0,\"#0d0887\"],[0.1111111111111111,\"#46039f\"],[0.2222222222222222,\"#7201a8\"],[0.3333333333333333,\"#9c179e\"],[0.4444444444444444,\"#bd3786\"],[0.5555555555555556,\"#d8576b\"],[0.6666666666666666,\"#ed7953\"],[0.7777777777777778,\"#fb9f3a\"],[0.8888888888888888,\"#fdca26\"],[1.0,\"#f0f921\"]],\"diverging\":[[0,\"#8e0152\"],[0.1,\"#c51b7d\"],[0.2,\"#de77ae\"],[0.3,\"#f1b6da\"],[0.4,\"#fde0ef\"],[0.5,\"#f7f7f7\"],[0.6,\"#e6f5d0\"],[0.7,\"#b8e186\"],[0.8,\"#7fbc41\"],[0.9,\"#4d9221\"],[1,\"#276419\"]]},\"xaxis\":{\"gridcolor\":\"white\",\"linecolor\":\"white\",\"ticks\":\"\",\"title\":{\"standoff\":15},\"zerolinecolor\":\"white\",\"automargin\":true,\"zerolinewidth\":2},\"yaxis\":{\"gridcolor\":\"white\",\"linecolor\":\"white\",\"ticks\":\"\",\"title\":{\"standoff\":15},\"zerolinecolor\":\"white\",\"automargin\":true,\"zerolinewidth\":2},\"scene\":{\"xaxis\":{\"backgroundcolor\":\"#E5ECF6\",\"gridcolor\":\"white\",\"linecolor\":\"white\",\"showbackground\":true,\"ticks\":\"\",\"zerolinecolor\":\"white\",\"gridwidth\":2},\"yaxis\":{\"backgroundcolor\":\"#E5ECF6\",\"gridcolor\":\"white\",\"linecolor\":\"white\",\"showbackground\":true,\"ticks\":\"\",\"zerolinecolor\":\"white\",\"gridwidth\":2},\"zaxis\":{\"backgroundcolor\":\"#E5ECF6\",\"gridcolor\":\"white\",\"linecolor\":\"white\",\"showbackground\":true,\"ticks\":\"\",\"zerolinecolor\":\"white\",\"gridwidth\":2}},\"shapedefaults\":{\"line\":{\"color\":\"#2a3f5f\"}},\"annotationdefaults\":{\"arrowcolor\":\"#2a3f5f\",\"arrowhead\":0,\"arrowwidth\":1},\"geo\":{\"bgcolor\":\"white\",\"landcolor\":\"#E5ECF6\",\"subunitcolor\":\"white\",\"showland\":true,\"showlakes\":true,\"lakecolor\":\"white\"},\"title\":{\"x\":0.05},\"mapbox\":{\"style\":\"light\"}}},\"title\":{\"text\":\"Sankey Diagram Mapping Neighborhoods to Complaints Regarding Parked Vehicles, Abandoned Vehicles, and the Flow of Traffic\"},\"font\":{\"size\":10}},                        {\"responsive\": true}                    ).then(function(){\n",
       "                            \n",
       "var gd = document.getElementById('4e95adee-c157-4ccf-a73c-530b8f110356');\n",
       "var x = new MutationObserver(function (mutations, observer) {{\n",
       "        var display = window.getComputedStyle(gd).display;\n",
       "        if (!display || display === 'none') {{\n",
       "            console.log([gd, 'removed!']);\n",
       "            Plotly.purge(gd);\n",
       "            observer.disconnect();\n",
       "        }}\n",
       "}});\n",
       "\n",
       "// Listen for the removal of the full notebook cells\n",
       "var notebookContainer = gd.closest('#notebook-container');\n",
       "if (notebookContainer) {{\n",
       "    x.observe(notebookContainer, {childList: true});\n",
       "}}\n",
       "\n",
       "// Listen for the clearing of the current output cell\n",
       "var outputEl = gd.closest('.output');\n",
       "if (outputEl) {{\n",
       "    x.observe(outputEl, {childList: true});\n",
       "}}\n",
       "\n",
       "                        })                };                });            </script>        </div>"
      ]
     },
     "metadata": {},
     "output_type": "display_data"
    }
   ],
   "source": [
    "# Make the sankey diagram\n",
    "sankey = make_sankey(sankey_df, 'neighborhood','type', \n",
    "                    'Sankey Diagram Mapping Neighborhoods to Complaints Regarding Parked Vehicles, Abandoned Vehicles,' +\n",
    "                     ' and the Flow of Traffic', vals='Value')\n",
    "\n",
    "# Visualize it\n",
    "sankey"
   ]
  },
  {
   "cell_type": "code",
   "execution_count": 13,
   "id": "56d771e7",
   "metadata": {},
   "outputs": [
    {
     "name": "stdout",
     "output_type": "stream",
     "text": [
      "Requirement already satisfied: chart_studio in c:\\users\\19492\\anaconda3\\lib\\site-packages (1.1.0)\n",
      "Requirement already satisfied: six in c:\\users\\19492\\anaconda3\\lib\\site-packages (from chart_studio) (1.15.0)\n",
      "Requirement already satisfied: plotly in c:\\users\\19492\\anaconda3\\lib\\site-packages (from chart_studio) (5.9.0)\n",
      "Requirement already satisfied: retrying>=1.3.3 in c:\\users\\19492\\anaconda3\\lib\\site-packages (from chart_studio) (1.3.4)\n",
      "Requirement already satisfied: requests in c:\\users\\19492\\anaconda3\\lib\\site-packages (from chart_studio) (2.25.1)\n",
      "Requirement already satisfied: tenacity>=6.2.0 in c:\\users\\19492\\anaconda3\\lib\\site-packages (from plotly->chart_studio) (8.0.1)\n",
      "Requirement already satisfied: urllib3<1.27,>=1.21.1 in c:\\users\\19492\\anaconda3\\lib\\site-packages (from requests->chart_studio) (1.26.4)\n",
      "Requirement already satisfied: idna<3,>=2.5 in c:\\users\\19492\\anaconda3\\lib\\site-packages (from requests->chart_studio) (2.10)\n",
      "Requirement already satisfied: chardet<5,>=3.0.2 in c:\\users\\19492\\anaconda3\\lib\\site-packages (from requests->chart_studio) (4.0.0)\n",
      "Requirement already satisfied: certifi>=2017.4.17 in c:\\users\\19492\\anaconda3\\lib\\site-packages (from requests->chart_studio) (2020.12.5)\n"
     ]
    }
   ],
   "source": [
    "# Install and import chart_studio\n",
    "!pip install chart_studio \n",
    "import chart_studio"
   ]
  },
  {
   "cell_type": "code",
   "execution_count": 14,
   "id": "4d937499",
   "metadata": {},
   "outputs": [
    {
     "data": {
      "text/plain": [
       "'https://plotly.com/~miahuebscher/1/'"
      ]
     },
     "execution_count": 14,
     "metadata": {},
     "output_type": "execute_result"
    }
   ],
   "source": [
    "# Upload the sankey diagram to plotly chart studio so it can be embedded into the webpage\n",
    "username = 'miahuebscher' # your username\n",
    "api_key = 'v6bxo5XBAW9GNOq0IEzI' # your api key - go to profile > settings > regenerate key\n",
    "chart_studio.tools.set_credentials_file(username=username, api_key=api_key)\n",
    "\n",
    "import chart_studio.plotly as py\n",
    "py.plot(sankey, filename = 'complaints_sankey', auto_open=True)"
   ]
  }
 ],
 "metadata": {
  "kernelspec": {
   "display_name": "Python 3",
   "language": "python",
   "name": "python3"
  },
  "language_info": {
   "codemirror_mode": {
    "name": "ipython",
    "version": 3
   },
   "file_extension": ".py",
   "mimetype": "text/x-python",
   "name": "python",
   "nbconvert_exporter": "python",
   "pygments_lexer": "ipython3",
   "version": "3.8.8"
  }
 },
 "nbformat": 4,
 "nbformat_minor": 5
}
